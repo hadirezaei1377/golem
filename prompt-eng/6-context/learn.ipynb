{
 "cells": [
  {
   "cell_type": "code",
   "execution_count": null,
   "metadata": {},
   "outputs": [],
   "source": [
    "## Activate virtual env\n",
    "# $ !python3 -m virtualenv .venv\n",
    "# $ !source .venv/bin/activate\n",
    "\n",
    "## Install OpenAI package\n",
    "# $ !pip install openai\n",
    "\n",
    "## Export Gilas.io API key\n",
    "# $ os.environ[\"GILAS_API_KEY\"]='...'"
   ]
  },
  {
   "cell_type": "code",
   "execution_count": null,
   "metadata": {},
   "outputs": [],
   "source": [
    "import os\n",
    "from dotenv import load_dotenv\n",
    "from openai import OpenAI\n",
    "\n",
    "load_dotenv()  \n",
    "\n",
    "client = OpenAI(\n",
    "    api_key=os.environ.get(\"GILAS_API_KEY\"),\n",
    "    base_url=\"https://api.gilas.io/v1/\"\n",
    ")"
   ]
  },
  {
   "cell_type": "code",
   "execution_count": null,
   "metadata": {},
   "outputs": [],
   "source": [
    "def get_completion(prompt, model=\"gpt-3.5-turbo\", temperature=0):\n",
    "    messages = [{\"role\": \"user\", \"content\": prompt}]\n",
    "    response = client.chat.completions.create(\n",
    "        model=model,\n",
    "        messages=messages,\n",
    "        temperature=temperature, # this is the degree of randomness of the model's output\n",
    "    )\n",
    "    return response.choices[0].message.content\n",
    "\n",
    "def get_completion_from_messages(messages, model=\"gpt-3.5-turbo\", temperature=0):\n",
    "    response = client.chat.completions.create(\n",
    "        model=model,\n",
    "        messages=messages,\n",
    "        temperature=temperature, # this is the degree of randomness of the model's output\n",
    "    )\n",
    "    #print(str(response.choices[0].message))\n",
    "    return response.choices[0].message.content"
   ]
  },
  {
   "cell_type": "code",
   "execution_count": null,
   "metadata": {},
   "outputs": [],
   "source": [
    "messages =  [  \n",
    "{'role':'system', 'content':'You are friendly chatbot.'},    \n",
    "{'role':'user', 'content':'Hi, my name is Isa'}  ]\n",
    "response = get_completion_from_messages(messages, temperature=1)\n",
    "print(response)"
   ]
  },
  {
   "cell_type": "code",
   "execution_count": null,
   "metadata": {},
   "outputs": [],
   "source": [
    "## statelessness - no memory\n",
    "\n",
    "messages =  [  \n",
    "{'role':'system', 'content':'You are friendly chatbot.'},    \n",
    "{'role':'user', 'content':'Yes, can you remind me, What is my name?'}  ]\n",
    "response = get_completion_from_messages(messages, temperature=1)\n",
    "print(response)"
   ]
  },
  {
   "cell_type": "code",
   "execution_count": null,
   "metadata": {},
   "outputs": [],
   "source": [
    "# Simple context\n",
    "\n",
    "messages = [  \n",
    "{'role':'system', 'content':'You are friendly chatbot.'},\n",
    "{'role':'user', 'content':'Hi, my name is Isa'},\n",
    "{'role':'assistant', 'content': \"Hi Isa! It's nice to meet you. Is there anything I can help you with today?\"},\n",
    "{'role':'user', 'content':'Yes, you can remind me, What is my name?'}]\n",
    "\n",
    "response = get_completion_from_messages(messages, temperature=1)\n",
    "print(response)"
   ]
  },
  {
   "cell_type": "code",
   "execution_count": null,
   "metadata": {},
   "outputs": [],
   "source": [
    "product_spec= f\"\"\"\n",
    "Name: \n",
    "Wow sofa\n",
    "\n",
    "Dimensions:\n",
    "Overall Length: 86 inches\n",
    "Overall Width: 36 inches\n",
    "Overall Height: 32 inches\n",
    "Seat Depth: 22 inches\n",
    "Seat Height: 18 inches\n",
    "Arm Height: 24 inches\n",
    "\n",
    "Design Features:\n",
    "Contemporary design with clean lines and minimalistic silhouette\n",
    "Tapered wooden legs in a dark espresso finish for an elegant touch\n",
    "Button-tufted detailing on back cushions for added visual interest\n",
    "Double stitching on seams for enhanced durability and aesthetic appeal\n",
    "\n",
    "Recommended weight capacity: \n",
    "Up to 300 pounds per seat\n",
    "\n",
    "Assembly:\n",
    "Minimal assembly required; legs may need to be attached upon delivery\n",
    "\n",
    "Warranty:\n",
    "Manufacturer's warranty: 1 year against manufacturing defects\n",
    "\"\"\""
   ]
  },
  {
   "cell_type": "code",
   "execution_count": null,
   "metadata": {},
   "outputs": [],
   "source": [
    "question = \"How big is the sofa?\"\n",
    "\n",
    "prompt = f\"\"\"\n",
    "You are a helpful AI assistant.\n",
    "\n",
    "Answer customer's question delimited with ``` based on the provided product spec delimited with ```.\n",
    "If the product spec does not include relevant information, only answer \"I do not know\".\n",
    "\n",
    "product spec: ``` {product_spec} ```\n",
    "\n",
    "customer question: ``` {question} ```\n",
    "\"\"\"\n",
    "\n",
    "print(prompt)"
   ]
  },
  {
   "cell_type": "code",
   "execution_count": null,
   "metadata": {},
   "outputs": [],
   "source": [
    "response = get_completion(prompt=prompt)\n",
    "print(response)"
   ]
  },
  {
   "cell_type": "code",
   "execution_count": null,
   "metadata": {},
   "outputs": [],
   "source": [
    "question = \"Where is the sofa produced?\"\n",
    "\n",
    "prompt = f\"\"\"\n",
    "You are a helpful AI assistant.\n",
    "\n",
    "Answer customer's question delimited with ``` based on the provided product spec delimited with ```.\n",
    "If the product spec does not include relevant information, only answer \"I do not know\".\n",
    "\n",
    "product spec: ``` {product_spec} ```\n",
    "\n",
    "customer question: ``` {question} ```\n",
    "\"\"\"\n",
    "\n",
    "response = get_completion(prompt=prompt)\n",
    "print(response)\n"
   ]
  }
 ],
 "metadata": {
  "kernelspec": {
   "display_name": ".venv",
   "language": "python",
   "name": "python3"
  },
  "language_info": {
   "codemirror_mode": {
    "name": "ipython",
    "version": 3
   },
   "file_extension": ".py",
   "mimetype": "text/x-python",
   "name": "python",
   "nbconvert_exporter": "python",
   "pygments_lexer": "ipython3",
   "version": "3.11.7"
  }
 },
 "nbformat": 4,
 "nbformat_minor": 2
}
